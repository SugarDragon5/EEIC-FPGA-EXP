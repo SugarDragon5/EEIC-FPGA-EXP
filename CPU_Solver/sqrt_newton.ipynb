{
 "cells": [
  {
   "cell_type": "code",
   "execution_count": 2,
   "metadata": {},
   "outputs": [],
   "source": [
    "import math\n",
    "def sqrt_newton(n,init_x):\n",
    "    ans=math.sqrt(n)\n",
    "    x=init_x\n",
    "    ret=[x]\n",
    "    while abs(x-ans)>1:\n",
    "        x=(x+n/x)/2\n",
    "        ret.append(x)\n",
    "    return ret"
   ]
  },
  {
   "cell_type": "code",
   "execution_count": 3,
   "metadata": {},
   "outputs": [
    {
     "name": "stdout",
     "output_type": "stream",
     "text": [
      "13 [1, 320000.5, 160001.2499984375, 80002.6249835939, 40005.312360552074, 20010.655117945014, 10021.319039416994, 5042.5914439134185, 2584.755156170094, 1416.18040685052, 934.0501153489507, 809.6190949124575, 800.0571422953808]\n",
      "10 [10, 32005.0, 16012.498437744103, 8026.233608019326, 4052.9860646900743, 2105.4471651479757, 1204.7102984113856, 867.9791755147351, 802.6620271741674, 800.0044143041755]\n",
      "6 [100, 3250.0, 1723.4615384615386, 1047.4036101145007, 829.2191785986859, 800.5147977880979]\n",
      "4 [1120, 845.7142857142858, 801.2355212355212, 800.0009525992564]\n"
     ]
    }
   ],
   "source": [
    "dat=[1,10,100,1120]\n",
    "for x in dat:\n",
    "    v=sqrt_newton(800*800,x)\n",
    "    print(len(v),v)"
   ]
  },
  {
   "cell_type": "code",
   "execution_count": 5,
   "metadata": {},
   "outputs": [
    {
     "name": "stdout",
     "output_type": "stream",
     "text": [
      "4 [1, 13.0, 7.461538461538462, 5.406026962727994]\n",
      "3 [10, 6.25, 5.125]\n",
      "6 [100, 50.125, 25.31187655860349, 13.14977760295123, 7.525475220305588, 5.4237622808967645]\n",
      "2 [7, 5.285714285714286]\n"
     ]
    }
   ],
   "source": [
    "dat=[1,10,100,7]\n",
    "for x in dat:\n",
    "    v=sqrt_newton(25,x)\n",
    "    print(len(v),v)"
   ]
  }
 ],
 "metadata": {
  "kernelspec": {
   "display_name": "Python 3",
   "language": "python",
   "name": "python3"
  },
  "language_info": {
   "codemirror_mode": {
    "name": "ipython",
    "version": 3
   },
   "file_extension": ".py",
   "mimetype": "text/x-python",
   "name": "python",
   "nbconvert_exporter": "python",
   "pygments_lexer": "ipython3",
   "version": "3.11.5"
  },
  "orig_nbformat": 4
 },
 "nbformat": 4,
 "nbformat_minor": 2
}
